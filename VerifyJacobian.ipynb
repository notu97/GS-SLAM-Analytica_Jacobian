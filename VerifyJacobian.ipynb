{
 "cells": [
  {
   "cell_type": "code",
   "execution_count": 271,
   "id": "d478ff29-67d7-4b4a-9ace-5e140e564ef4",
   "metadata": {},
   "outputs": [],
   "source": [
    "import numpy as np\n",
    "import matplotlib.pyplot as plt\n",
    "from mpl_toolkits.mplot3d import Axes3D\n",
    "import torch\n",
    "import torch.autograd.functional as F"
   ]
  },
  {
   "cell_type": "markdown",
   "id": "c892a7e5-c666-4340-b0c0-2d08673cb039",
   "metadata": {},
   "source": [
    "## Declare the variables"
   ]
  },
  {
   "cell_type": "code",
   "execution_count": 272,
   "id": "1574fe8c-4696-401c-97b9-0fe6c769d445",
   "metadata": {
    "jupyter": {
     "source_hidden": true
    }
   },
   "outputs": [],
   "source": [
    "# camera Pose 4x4\n",
    "T_cw = np.array([[1,0,0,1],\n",
    "                 [0,1,0,1],\n",
    "                 [0,0,1,1],\n",
    "                 [0,0,0,1]])\n",
    "# homogenous mu_w\n",
    "mu_w = np.array([2,3,4,1])\n",
    "\n",
    "cov_3D = np.array([[1,2,3],\n",
    "                   [2,4,5],\n",
    "                   [3,5,9]])\n",
    "\n",
    "# camera Pose 4x4\n",
    "T_cw_tensor = torch.from_numpy(T_cw).float().requires_grad_(True)\n",
    "# homogenous mu_w\n",
    "mu_w_tensor = torch.from_numpy(mu_w).float().requires_grad_(True)\n",
    "\n",
    "cov_3D_tensor = torch.from_numpy(cov_3D).float().requires_grad_(True)"
   ]
  },
  {
   "cell_type": "code",
   "execution_count": 273,
   "id": "22eb03c1-2e3e-4e7d-9406-7cab7cc88610",
   "metadata": {
    "jupyter": {
     "source_hidden": true
    }
   },
   "outputs": [],
   "source": [
    "def Jacobian_pi_func_tensor(v):\n",
    "\n",
    "    a = torch.stack([\n",
    "    torch.cat([torch.tensor([1., 0.]), -v[0:1]/v[2:3]]),\n",
    "    torch.cat([torch.tensor([0., 1.]), -v[1:2]/v[2:3]]),\n",
    "    ])\n",
    "    \n",
    "    a = a/v[2:3]\n",
    "    return a"
   ]
  },
  {
   "cell_type": "code",
   "execution_count": 200,
   "id": "cbb9a8ac-3e0b-4f42-b8b0-8bc21d25d91d",
   "metadata": {
    "jupyter": {
     "source_hidden": true
    }
   },
   "outputs": [],
   "source": [
    "import torch\n",
    "import math\n",
    "\n",
    "def se3_exp(xi):\n",
    "    \"\"\"\n",
    "    Convert 6D twist xi (linear first, then angular) to SE(3) matrix.\n",
    "    Input: xi = [v_x, v_y, v_z, ω_x, ω_y, ω_z]\n",
    "    Output: 4x4 SE(3) transformation matrix T.\n",
    "    \"\"\"\n",
    "    assert xi.shape[-1] == 6\n",
    "    v, omega = xi[..., :3], xi[..., 3:]  # Split into linear and angular\n",
    "    \n",
    "    # Compute [ω]× (skew-symmetric matrix)\n",
    "    omega_skew = torch.zeros(*xi.shape[:-1], 3, 3, device=xi.device)\n",
    "    omega_skew[..., 0, 1] = -omega[..., 2]\n",
    "    omega_skew[..., 0, 2] =  omega[..., 1]\n",
    "    omega_skew[..., 1, 0] =  omega[..., 2]\n",
    "    omega_skew[..., 1, 2] = -omega[..., 0]\n",
    "    omega_skew[..., 2, 0] = -omega[..., 1]\n",
    "    omega_skew[..., 2, 1] =  omega[..., 0]\n",
    "    \n",
    "    theta = torch.norm(omega, dim=-1, keepdim=True)  # Rotation angle ||ω||\n",
    "    I = torch.eye(3, device=xi.device).expand_as(omega_skew)\n",
    "    \n",
    "    # Handle small angles (avoid division by zero)\n",
    "    small_angle = theta.squeeze(-1) < 1e-10\n",
    "    sin_theta = torch.sin(theta)\n",
    "    cos_theta = torch.cos(theta)\n",
    "    \n",
    "    # Compute rotation R (Rodrigues formula)\n",
    "    A = torch.where(\n",
    "        small_angle.unsqueeze(-1).unsqueeze(-1),\n",
    "        I + omega_skew,  # R ≈ I + [ω]× when θ ≈ 0\n",
    "        I + (sin_theta / theta) * omega_skew + \n",
    "            ((1 - cos_theta) / theta**2) * (omega_skew @ omega_skew)\n",
    "    )\n",
    "    \n",
    "    # Compute translation t\n",
    "    B = torch.where(\n",
    "        small_angle.unsqueeze(-1).unsqueeze(-1),\n",
    "        I + 0.5 * omega_skew,  # V ≈ I + 0.5[ω]× when θ ≈ 0\n",
    "        I + ((1 - cos_theta) / theta**2) * omega_skew +\n",
    "            ((theta - sin_theta) / theta**3) * (omega_skew @ omega_skew)\n",
    "    )\n",
    "    t = (B @ v.unsqueeze(-1)).squeeze(-1)\n",
    "    \n",
    "    # Construct SE(3) matrix\n",
    "    T = torch.zeros(*xi.shape[:-1], 4, 4, device=xi.device)\n",
    "    T[..., :3, :3] = A  # Rotation\n",
    "    T[..., :3, 3] = t   # Translation\n",
    "    T[..., 3, 3] = 1     # Homogeneous coordinate\n",
    "    return T"
   ]
  },
  {
   "cell_type": "code",
   "execution_count": 241,
   "id": "5f965af2-f8d7-464d-b869-7689eccae5de",
   "metadata": {},
   "outputs": [],
   "source": [
    "def hat_operator(v):\n",
    "\t'''\n",
    "\tHat operator\n",
    "\t'''\n",
    "\treturn np.array([[0    ,-v[2],  v[1]],\n",
    "                     [v[2] ,    0, -v[0]],\n",
    "                     [-v[1], v[0],    0]])"
   ]
  },
  {
   "cell_type": "markdown",
   "id": "9469b530-81b9-4e43-bb11-8e9c48ad2585",
   "metadata": {},
   "source": [
    "## Func for mu_I i.e. 2D Mean in the image plane"
   ]
  },
  {
   "cell_type": "code",
   "execution_count": 274,
   "id": "ef4a60bb-23f3-4dc3-b647-373e3634231d",
   "metadata": {},
   "outputs": [],
   "source": [
    "def func_MU_I(vec):\n",
    "    \"\"\"\n",
    "    vec is a 6D vector with [translation , rotation ]\n",
    "    \"\"\"\n",
    "    I43 = torch.eye(4,3,requires_grad=True, dtype=torch.float32)\n",
    "    I34 = torch.eye(3,4,requires_grad=True, dtype=torch.float32)\n",
    "    \n",
    "    zero = torch.zeros((1), requires_grad=True, dtype=torch.float32)\n",
    "\n",
    "    # Construct hat operator matrix for vec, we cal it xi\n",
    "    xi = torch.stack([\n",
    "    torch.stack([torch.tensor(0.0), -vec[5],  vec[4],  vec[0]]),\n",
    "    torch.stack([vec[5],  torch.tensor(0.0), -vec[3],  vec[1]]),\n",
    "    torch.stack([-vec[4], vec[3],  torch.tensor(0.0),  vec[2]]),\n",
    "    torch.zeros(4)  # Last row\n",
    "    ])\n",
    "    xi.requires_grad_(True)\n",
    "    print(\"xi: \\n\",xi)\n",
    "\n",
    "    # Get the SE(3) Matrix This is the true value of matrix exponential\n",
    "    T_cw = torch.linalg.matrix_exp(xi)    \n",
    "    print('Expm True value T_cw: \\n', T_cw)\n",
    "\n",
    "    # Lets 1st order Approximate it\n",
    "    # T_cw = torch.eye(4,4, requires_grad=True, dtype=torch.float32)+ xi\n",
    "    # print('Expm 1st order Approx value T_cw: \\n', T_cw)\n",
    "\n",
    "    # Lets 2nd order Approximate it\n",
    "    # T_cw = torch.eye(4,4, requires_grad=True, dtype=torch.float32)+ xi + 0.5*torch.matmul(xi,xi) \n",
    "    # print('Expm 2nd order Approx value T_cw: \\n', T_cw)\n",
    "\n",
    "    # Lets 3rd order Approximate it\n",
    "    # T_cw = torch.eye(4,4, requires_grad=True, dtype=torch.float32)+ xi + 0.5*torch.matmul(xi,xi) + (1/6)*torch.matmul(xi,torch.matmul(xi,xi))\n",
    "    # print('Expm 3rd order Approx value T_cw: \\n', T_cw)\n",
    "\n",
    "    # from se3_exp\n",
    "    # T_cw = se3_exp(vec)  \n",
    "    # print('Expm se3_exp value T_cw: \\n', T_cw)\n",
    "\n",
    "    # Get the mu_c\n",
    "    mu_cam = torch.matmul(T_cw, mu_w_tensor)\n",
    "    print('mu_cam: ', mu_cam)\n",
    "\n",
    "    def get_mu_I_asfuncof_mu_c(mu_cam_):\n",
    "        # Find mu_I\n",
    "        I34 = torch.eye(3,4, requires_grad=True, dtype=torch.float32)\n",
    "        mu_I = (torch.matmul(I34, mu_cam_))/mu_cam_[2]\n",
    "        print('mu_I: ', mu_I)\n",
    "        # print(mu_I)\n",
    "        return mu_I\n",
    "\n",
    "    print(\"dmuI_dmuC: \\n\", F.jacobian(get_mu_I_asfuncof_mu_c, (mu_cam)))\n",
    "    \n",
    "    return get_mu_I_asfuncof_mu_c(mu_cam), mu_cam"
   ]
  },
  {
   "cell_type": "markdown",
   "id": "6237836a-5fb7-408a-a960-76b12c02293d",
   "metadata": {},
   "source": [
    "## Define the screw vector , se(3) 6D vector"
   ]
  },
  {
   "cell_type": "code",
   "execution_count": 321,
   "id": "6fd7fa53-6c7a-4055-b81b-ec78be52040e",
   "metadata": {},
   "outputs": [],
   "source": [
    "vec = torch.tensor([1.0, 1.0, 1.0, 0.4534498, 0.4534498, 0.4534498], requires_grad=True, dtype=torch.float32) # [translation , rotation ]\n",
    "# vec = torch.tensor([1.0, 1.0, 1.0, 0.0, 0.0, 0.0], requires_grad=True, dtype=torch.float32) # [translation , rotation ]\n"
   ]
  },
  {
   "cell_type": "code",
   "execution_count": 322,
   "id": "1eee56bf-2f26-43f9-9061-76d7a62bea3a",
   "metadata": {},
   "outputs": [
    {
     "name": "stdout",
     "output_type": "stream",
     "text": [
      "xi: \n",
      " tensor([[ 0.0000, -0.4534,  0.4534,  1.0000],\n",
      "        [ 0.4534,  0.0000, -0.4534,  1.0000],\n",
      "        [-0.4534,  0.4534,  0.0000,  1.0000],\n",
      "        [ 0.0000,  0.0000,  0.0000,  0.0000]], grad_fn=<StackBackward0>)\n",
      "Expm True value T_cw: \n",
      " tensor([[ 0.8047, -0.3106,  0.5059,  1.0000],\n",
      "        [ 0.5059,  0.8047, -0.3106,  1.0000],\n",
      "        [-0.3106,  0.5059,  0.8047,  1.0000],\n",
      "        [ 0.0000,  0.0000,  0.0000,  1.0000]],\n",
      "       grad_fn=<LinalgMatrixExpBackward0>)\n",
      "mu_cam:  tensor([3.7011, 3.1835, 5.1154, 1.0000], grad_fn=<MvBackward0>)\n",
      "mu_I:  tensor([0.7235, 0.6223, 1.0000], grad_fn=<DivBackward0>)\n",
      "dmuI_dmuC: \n",
      " tensor([[ 0.1955,  0.0000, -0.1414,  0.0000],\n",
      "        [ 0.0000,  0.1955, -0.1217,  0.0000],\n",
      "        [ 0.0000,  0.0000,  0.0000,  0.0000]])\n",
      "mu_I:  tensor([0.7235, 0.6223, 1.0000], grad_fn=<DivBackward0>)\n",
      "d_mu_I/d_Tcw: \n",
      " tensor([[ 0.2083, -0.0707, -0.0835,  0.0562,  1.2139, -0.8192],\n",
      "        [ 0.0707,  0.1523, -0.1492, -1.1695,  0.7282,  0.2278],\n",
      "        [ 0.0000,  0.0000,  0.0000,  0.0000,  0.0000,  0.0000]])\n",
      "d_mu_C/d_Tcw: \n",
      " tensor([[ 0.9335, -0.1821,  0.2485,  1.5669,  3.7007, -3.3358],\n",
      "        [ 0.2485,  0.9335, -0.1821, -4.8818,  1.5672,  1.9004],\n",
      "        [-0.1821,  0.2485,  0.9335,  1.7686, -3.4673,  1.1811],\n",
      "        [ 0.0000,  0.0000,  0.0000,  0.0000,  0.0000,  0.0000]])\n"
     ]
    }
   ],
   "source": [
    "# Get the Jacobian d_mu_I/D_Tcw and d_mu_C/D_Tcw respectively\n",
    "d_mu_I__D_Tcw, d_mu_C__D_Tcw = F.jacobian(func_MU_I, (vec)) #dmuI_dTcw\n",
    "print(\"d_mu_I/d_Tcw: \\n\", d_mu_I__D_Tcw)\n",
    "print(\"d_mu_C/d_Tcw: \\n\", d_mu_C__D_Tcw)"
   ]
  },
  {
   "attachments": {
    "f169ae4c-d38a-4cae-b9b8-aca9148c8b49.png": {
     "image/png": "[encoded data removed]"
    }
   },
   "cell_type": "markdown",
   "id": "f4f0bd0e-c91b-4e99-a724-36091fc225c6",
   "metadata": {},
   "source": [
    "### According to the GS-SLAM Paper d_mu_C/d_Tcw should be as follows\n",
    "![image.png](attachment:f169ae4c-d38a-4cae-b9b8-aca9148c8b49.png)"
   ]
  },
  {
   "cell_type": "code",
   "execution_count": 323,
   "id": "d02f3242-dd4d-4d10-9533-e8412b2ae7d3",
   "metadata": {},
   "outputs": [
    {
     "name": "stdout",
     "output_type": "stream",
     "text": [
      "dmuC_dTcw_paper:\n",
      " [[ 1.      0.      0.     -0.      5.1154 -3.1835]\n",
      " [ 0.      1.      0.     -5.1154 -0.      3.7011]\n",
      " [ 0.      0.      1.      3.1835 -3.7011 -0.    ]]\n"
     ]
    }
   ],
   "source": [
    "# mu_cam = np.array([3., 4., 5., 1.])\n",
    "mu_cam = np.array([3.7011, 3.1835, 5.1154, 1.0000])\n",
    "dmuC_dTcw_paper = np.hstack((np.eye(3),-hat_operator(mu_cam)))\n",
    "print(\"dmuC_dTcw_paper:\\n\",dmuC_dTcw_paper)"
   ]
  },
  {
   "cell_type": "markdown",
   "id": "360a2426-6645-495c-9f32-e456276bbd77",
   "metadata": {},
   "source": [
    "## Jac from se3_exp function"
   ]
  },
  {
   "cell_type": "code",
   "execution_count": 313,
   "id": "2b8fb04e-ec16-42e9-ac0c-23f1045d1046",
   "metadata": {},
   "outputs": [
    {
     "name": "stdout",
     "output_type": "stream",
     "text": [
      "xi: \n",
      " tensor([[0., -0., 0., 1.],\n",
      "        [0., 0., -0., 1.],\n",
      "        [-0., 0., 0., 1.],\n",
      "        [0., 0., 0., 0.]], grad_fn=<StackBackward0>)\n",
      "Expm True value T_cw: \n",
      " tensor([[1., 0., 0., 1.],\n",
      "        [0., 1., 0., 1.],\n",
      "        [0., 0., 1., 1.],\n",
      "        [0., 0., 0., 1.]], grad_fn=<LinalgMatrixExpBackward0>)\n",
      "mu_cam:  tensor([3., 4., 5., 1.], grad_fn=<MvBackward0>)\n",
      "mu_I:  tensor([0.6000, 0.8000, 1.0000], grad_fn=<DivBackward0>)\n",
      "dmuI_dmuC: \n",
      " tensor([[ 0.2000,  0.0000, -0.1200,  0.0000],\n",
      "        [ 0.0000,  0.2000, -0.1600,  0.0000],\n",
      "        [ 0.0000,  0.0000,  0.0000,  0.0000]])\n",
      "mu_I:  tensor([0.6000, 0.8000, 1.0000], grad_fn=<DivBackward0>)\n"
     ]
    },
    {
     "data": {
      "text/plain": [
       "(tensor([0.6000, 0.8000, 1.0000], grad_fn=<DivBackward0>),\n",
       " tensor([3., 4., 5., 1.], grad_fn=<MvBackward0>))"
      ]
     },
     "execution_count": 313,
     "metadata": {},
     "output_type": "execute_result"
    }
   ],
   "source": [
    "func_MU_I(vec)"
   ]
  },
  {
   "cell_type": "code",
   "execution_count": 314,
   "id": "010c250e-aa12-4a89-955e-268e8e592e7d",
   "metadata": {},
   "outputs": [
    {
     "data": {
      "text/plain": [
       "tensor([2., 3., 4., 1.], requires_grad=True)"
      ]
     },
     "execution_count": 314,
     "metadata": {},
     "output_type": "execute_result"
    }
   ],
   "source": [
    "mu_w_tensor"
   ]
  },
  {
   "cell_type": "markdown",
   "id": "5c049dae-fc1a-4234-8f18-ffec163206cb",
   "metadata": {},
   "source": [
    "## Jac with Expm true value"
   ]
  },
  {
   "cell_type": "code",
   "execution_count": 315,
   "id": "ae7c9d75-494a-4eb9-a544-e3b1c39dd358",
   "metadata": {},
   "outputs": [
    {
     "name": "stdout",
     "output_type": "stream",
     "text": [
      "xi: \n",
      " tensor([[0., -0., 0., 1.],\n",
      "        [0., 0., -0., 1.],\n",
      "        [-0., 0., 0., 1.],\n",
      "        [0., 0., 0., 0.]], grad_fn=<StackBackward0>)\n",
      "Expm True value T_cw: \n",
      " tensor([[1., 0., 0., 1.],\n",
      "        [0., 1., 0., 1.],\n",
      "        [0., 0., 1., 1.],\n",
      "        [0., 0., 0., 1.]], grad_fn=<LinalgMatrixExpBackward0>)\n",
      "mu_cam:  tensor([3., 4., 5., 1.], grad_fn=<MvBackward0>)\n",
      "mu_I:  tensor([0.6000, 0.8000, 1.0000], grad_fn=<DivBackward0>)\n",
      "dmuI_dmuC: \n",
      " tensor([[ 0.2000,  0.0000, -0.1200,  0.0000],\n",
      "        [ 0.0000,  0.2000, -0.1600,  0.0000],\n",
      "        [ 0.0000,  0.0000,  0.0000,  0.0000]])\n",
      "mu_I:  tensor([0.6000, 0.8000, 1.0000], grad_fn=<DivBackward0>)\n"
     ]
    },
    {
     "data": {
      "text/plain": [
       "(tensor([0.6000, 0.8000, 1.0000], grad_fn=<DivBackward0>),\n",
       " tensor([3., 4., 5., 1.], grad_fn=<MvBackward0>))"
      ]
     },
     "execution_count": 315,
     "metadata": {},
     "output_type": "execute_result"
    }
   ],
   "source": [
    "func_MU_I(vec)"
   ]
  },
  {
   "cell_type": "code",
   "execution_count": 316,
   "id": "637e0fe3-e66c-482e-a396-c0598161249b",
   "metadata": {},
   "outputs": [
    {
     "name": "stdout",
     "output_type": "stream",
     "text": [
      "xi: \n",
      " tensor([[0., -0., 0., 1.],\n",
      "        [0., 0., -0., 1.],\n",
      "        [-0., 0., 0., 1.],\n",
      "        [0., 0., 0., 0.]], grad_fn=<StackBackward0>)\n",
      "Expm True value T_cw: \n",
      " tensor([[1., 0., 0., 1.],\n",
      "        [0., 1., 0., 1.],\n",
      "        [0., 0., 1., 1.],\n",
      "        [0., 0., 0., 1.]], grad_fn=<LinalgMatrixExpBackward0>)\n",
      "mu_cam:  tensor([3., 4., 5., 1.], grad_fn=<MvBackward0>)\n",
      "mu_I:  tensor([0.6000, 0.8000, 1.0000], grad_fn=<DivBackward0>)\n",
      "dmuI_dmuC: \n",
      " tensor([[ 0.2000,  0.0000, -0.1200,  0.0000],\n",
      "        [ 0.0000,  0.2000, -0.1600,  0.0000],\n",
      "        [ 0.0000,  0.0000,  0.0000,  0.0000]])\n",
      "mu_I:  tensor([0.6000, 0.8000, 1.0000], grad_fn=<DivBackward0>)\n"
     ]
    },
    {
     "data": {
      "text/plain": [
       "(tensor([[ 0.2000,  0.0000, -0.1200, -0.4200,  1.2000, -0.7000],\n",
       "         [ 0.0000,  0.2000, -0.1600, -1.4600,  0.4000,  0.5000],\n",
       "         [ 0.0000,  0.0000,  0.0000,  0.0000,  0.0000,  0.0000]]),\n",
       " tensor([[ 1.0000,  0.0000,  0.0000,  0.0000,  4.5000, -3.5000],\n",
       "         [ 0.0000,  1.0000,  0.0000, -4.5000,  0.0000,  2.5000],\n",
       "         [ 0.0000,  0.0000,  1.0000,  3.5000, -2.5000,  0.0000],\n",
       "         [ 0.0000,  0.0000,  0.0000,  0.0000,  0.0000,  0.0000]]))"
      ]
     },
     "execution_count": 316,
     "metadata": {},
     "output_type": "execute_result"
    }
   ],
   "source": [
    "F.jacobian(func_MU_I, (vec)) #dmuI_dTcw"
   ]
  },
  {
   "cell_type": "markdown",
   "id": "b2603fd5-a3f3-4ecb-b917-ec9e09b61f26",
   "metadata": {},
   "source": [
    "## Jac with Expm's 1st order approx value"
   ]
  },
  {
   "cell_type": "code",
   "execution_count": 147,
   "id": "a4520fe1-5036-44fb-a91a-6c258251888f",
   "metadata": {},
   "outputs": [
    {
     "name": "stdout",
     "output_type": "stream",
     "text": [
      "xi: \n",
      " tensor([[0., -0., 0., 1.],\n",
      "        [0., 0., -0., 1.],\n",
      "        [-0., 0., 0., 1.],\n",
      "        [0., 0., 0., 0.]], grad_fn=<StackBackward0>)\n",
      "Expm 1st order Approx value T_cw: \n",
      " tensor([[1., 0., 0., 1.],\n",
      "        [0., 1., 0., 1.],\n",
      "        [0., 0., 1., 1.],\n",
      "        [0., 0., 0., 1.]], grad_fn=<AddBackward0>)\n",
      "mu_cam:  tensor([3., 4., 5., 1.], grad_fn=<MvBackward0>)\n",
      "mu_I:  tensor([0.6000, 0.8000, 1.0000], grad_fn=<DivBackward0>)\n"
     ]
    },
    {
     "data": {
      "text/plain": [
       "(tensor([0.6000, 0.8000, 1.0000], grad_fn=<DivBackward0>),\n",
       " tensor([3., 4., 5., 1.], grad_fn=<MvBackward0>))"
      ]
     },
     "execution_count": 147,
     "metadata": {},
     "output_type": "execute_result"
    }
   ],
   "source": [
    "func_MU_I(vec)"
   ]
  },
  {
   "cell_type": "code",
   "execution_count": 148,
   "id": "d879eca4-e42e-4153-b63a-f0a8332fc0c4",
   "metadata": {},
   "outputs": [
    {
     "name": "stdout",
     "output_type": "stream",
     "text": [
      "xi: \n",
      " tensor([[0., -0., 0., 1.],\n",
      "        [0., 0., -0., 1.],\n",
      "        [-0., 0., 0., 1.],\n",
      "        [0., 0., 0., 0.]], grad_fn=<StackBackward0>)\n",
      "Expm 1st order Approx value T_cw: \n",
      " tensor([[1., 0., 0., 1.],\n",
      "        [0., 1., 0., 1.],\n",
      "        [0., 0., 1., 1.],\n",
      "        [0., 0., 0., 1.]], grad_fn=<AddBackward0>)\n",
      "mu_cam:  tensor([3., 4., 5., 1.], grad_fn=<MvBackward0>)\n",
      "mu_I:  tensor([0.6000, 0.8000, 1.0000], grad_fn=<DivBackward0>)\n"
     ]
    },
    {
     "data": {
      "text/plain": [
       "(tensor([[ 0.2000,  0.0000, -0.1200, -0.3600,  1.0400, -0.6000],\n",
       "         [ 0.0000,  0.2000, -0.1600, -1.2800,  0.3200,  0.4000],\n",
       "         [ 0.0000,  0.0000,  0.0000,  0.0000,  0.0000,  0.0000]]),\n",
       " tensor([[ 1.,  0.,  0.,  0.,  4., -3.],\n",
       "         [ 0.,  1.,  0., -4.,  0.,  2.],\n",
       "         [ 0.,  0.,  1.,  3., -2.,  0.],\n",
       "         [ 0.,  0.,  0.,  0.,  0.,  0.]]))"
      ]
     },
     "execution_count": 148,
     "metadata": {},
     "output_type": "execute_result"
    }
   ],
   "source": [
    "F.jacobian(func_MU_I, (vec)) #dmuI_dTcw"
   ]
  },
  {
   "cell_type": "markdown",
   "id": "7336c037-dd86-44af-adf9-f7a580a0709e",
   "metadata": {},
   "source": [
    "# Jac with Expm's 2nd order approx value"
   ]
  },
  {
   "cell_type": "code",
   "execution_count": 150,
   "id": "54636f1e-fec1-42af-9072-6ab457d1ecb4",
   "metadata": {},
   "outputs": [
    {
     "name": "stdout",
     "output_type": "stream",
     "text": [
      "xi: \n",
      " tensor([[0., -0., 0., 1.],\n",
      "        [0., 0., -0., 1.],\n",
      "        [-0., 0., 0., 1.],\n",
      "        [0., 0., 0., 0.]], grad_fn=<StackBackward0>)\n",
      "Expm 2nd order Approx value T_cw: \n",
      " tensor([[1., 0., 0., 1.],\n",
      "        [0., 1., 0., 1.],\n",
      "        [0., 0., 1., 1.],\n",
      "        [0., 0., 0., 1.]], grad_fn=<AddBackward0>)\n",
      "mu_cam:  tensor([3., 4., 5., 1.], grad_fn=<MvBackward0>)\n",
      "mu_I:  tensor([0.6000, 0.8000, 1.0000], grad_fn=<DivBackward0>)\n"
     ]
    },
    {
     "data": {
      "text/plain": [
       "(tensor([0.6000, 0.8000, 1.0000], grad_fn=<DivBackward0>),\n",
       " tensor([3., 4., 5., 1.], grad_fn=<MvBackward0>))"
      ]
     },
     "execution_count": 150,
     "metadata": {},
     "output_type": "execute_result"
    }
   ],
   "source": [
    "func_MU_I(vec)"
   ]
  },
  {
   "cell_type": "code",
   "execution_count": 151,
   "id": "38edbd51-4570-4394-be22-bab54e8fd578",
   "metadata": {},
   "outputs": [
    {
     "name": "stdout",
     "output_type": "stream",
     "text": [
      "xi: \n",
      " tensor([[0., -0., 0., 1.],\n",
      "        [0., 0., -0., 1.],\n",
      "        [-0., 0., 0., 1.],\n",
      "        [0., 0., 0., 0.]], grad_fn=<StackBackward0>)\n",
      "Expm 2nd order Approx value T_cw: \n",
      " tensor([[1., 0., 0., 1.],\n",
      "        [0., 1., 0., 1.],\n",
      "        [0., 0., 1., 1.],\n",
      "        [0., 0., 0., 1.]], grad_fn=<AddBackward0>)\n",
      "mu_cam:  tensor([3., 4., 5., 1.], grad_fn=<MvBackward0>)\n",
      "mu_I:  tensor([0.6000, 0.8000, 1.0000], grad_fn=<DivBackward0>)\n"
     ]
    },
    {
     "data": {
      "text/plain": [
       "(tensor([[ 0.2000,  0.0000, -0.1200, -0.4200,  1.2000, -0.7000],\n",
       "         [ 0.0000,  0.2000, -0.1600, -1.4600,  0.4000,  0.5000],\n",
       "         [ 0.0000,  0.0000,  0.0000,  0.0000,  0.0000,  0.0000]]),\n",
       " tensor([[ 1.0000,  0.0000,  0.0000,  0.0000,  4.5000, -3.5000],\n",
       "         [ 0.0000,  1.0000,  0.0000, -4.5000,  0.0000,  2.5000],\n",
       "         [ 0.0000,  0.0000,  1.0000,  3.5000, -2.5000,  0.0000],\n",
       "         [ 0.0000,  0.0000,  0.0000,  0.0000,  0.0000,  0.0000]]))"
      ]
     },
     "execution_count": 151,
     "metadata": {},
     "output_type": "execute_result"
    }
   ],
   "source": [
    "F.jacobian(func_MU_I, (vec)) #dmuI_dTcw"
   ]
  },
  {
   "cell_type": "markdown",
   "id": "2ba44188-c725-496d-82a9-99af8fe91248",
   "metadata": {},
   "source": [
    "# Jac with Expm's 3rd order approx value"
   ]
  },
  {
   "cell_type": "code",
   "execution_count": 91,
   "id": "ee90ce6a-661a-4a8b-861b-d56b9b41542a",
   "metadata": {
    "collapsed": true,
    "jupyter": {
     "outputs_hidden": true
    }
   },
   "outputs": [
    {
     "name": "stdout",
     "output_type": "stream",
     "text": [
      "xi: \n",
      " tensor([[0., -0., 0., 1.],\n",
      "        [0., 0., -0., 1.],\n",
      "        [-0., 0., 0., 1.],\n",
      "        [0., 0., 0., 0.]], grad_fn=<StackBackward0>)\n",
      "Expm 3rd order Approx value T_cw: \n",
      " tensor([[1., 0., 0., 1.],\n",
      "        [0., 1., 0., 1.],\n",
      "        [0., 0., 1., 1.],\n",
      "        [0., 0., 0., 1.]], grad_fn=<AddBackward0>)\n",
      "mu_cam:  tensor([3., 4., 5., 1.], grad_fn=<MvBackward0>)\n",
      "mu_I:  tensor([0.6000, 0.8000, 1.0000], grad_fn=<DivBackward0>)\n"
     ]
    },
    {
     "data": {
      "text/plain": [
       "(tensor([0.6000, 0.8000, 1.0000], grad_fn=<DivBackward0>),\n",
       " tensor([3., 4., 5., 1.], grad_fn=<MvBackward0>))"
      ]
     },
     "execution_count": 91,
     "metadata": {},
     "output_type": "execute_result"
    }
   ],
   "source": [
    "func_MU_I(vec)"
   ]
  },
  {
   "cell_type": "code",
   "execution_count": 92,
   "id": "0a4bc459-2684-4328-8566-a269b88dc120",
   "metadata": {
    "collapsed": true,
    "jupyter": {
     "outputs_hidden": true
    }
   },
   "outputs": [
    {
     "name": "stdout",
     "output_type": "stream",
     "text": [
      "xi: \n",
      " tensor([[0., -0., 0., 1.],\n",
      "        [0., 0., -0., 1.],\n",
      "        [-0., 0., 0., 1.],\n",
      "        [0., 0., 0., 0.]], grad_fn=<StackBackward0>)\n",
      "Expm 3rd order Approx value T_cw: \n",
      " tensor([[1., 0., 0., 1.],\n",
      "        [0., 1., 0., 1.],\n",
      "        [0., 0., 1., 1.],\n",
      "        [0., 0., 0., 1.]], grad_fn=<AddBackward0>)\n",
      "mu_cam:  tensor([3., 4., 5., 1.], grad_fn=<MvBackward0>)\n",
      "mu_I:  tensor([0.6000, 0.8000, 1.0000], grad_fn=<DivBackward0>)\n"
     ]
    },
    {
     "data": {
      "text/plain": [
       "(tensor([[ 0.2000,  0.0000, -0.1200, -0.4200,  1.2000, -0.7000],\n",
       "         [ 0.0000,  0.2000, -0.1600, -1.4600,  0.4000,  0.5000],\n",
       "         [ 0.0000,  0.0000,  0.0000,  0.0000,  0.0000,  0.0000]]),\n",
       " tensor([[ 1.0000,  0.0000,  0.0000,  0.0000,  4.5000, -3.5000],\n",
       "         [ 0.0000,  1.0000,  0.0000, -4.5000,  0.0000,  2.5000],\n",
       "         [ 0.0000,  0.0000,  1.0000,  3.5000, -2.5000,  0.0000],\n",
       "         [ 0.0000,  0.0000,  0.0000,  0.0000,  0.0000,  0.0000]]))"
      ]
     },
     "execution_count": 92,
     "metadata": {},
     "output_type": "execute_result"
    }
   ],
   "source": [
    "F.jacobian(func_MU_I, (vec)) #dmuI_dTcw"
   ]
  },
  {
   "cell_type": "markdown",
   "id": "b0719302-016e-4672-8438-27cc7002d43d",
   "metadata": {},
   "source": [
    "# Jacobian of the 2D Cov matrix"
   ]
  },
  {
   "cell_type": "code",
   "execution_count": 324,
   "id": "3f9eeab4-2f65-41cf-9371-6264e75d0e26",
   "metadata": {},
   "outputs": [],
   "source": [
    "def func_COV_I(vec):\n",
    "    I43 = torch.eye(4,3,requires_grad=True, dtype=torch.float32)\n",
    "    I34 = torch.eye(3,4,requires_grad=True, dtype=torch.float32)\n",
    "    \n",
    "    zero = torch.zeros((1), requires_grad=True, dtype=torch.float32)\n",
    "    xi = torch.stack([\n",
    "    torch.stack([torch.tensor(0.0), -vec[5],  vec[4],  vec[0]]),\n",
    "    torch.stack([vec[5],  torch.tensor(0.0), -vec[3],  vec[1]]),\n",
    "    torch.stack([-vec[4], vec[3],  torch.tensor(0.0),  vec[2]]),\n",
    "    torch.zeros(4)  # Last row\n",
    "    ])\n",
    "    xi.requires_grad_(True)\n",
    "    print(\"xi: \\n\",xi)\n",
    "\n",
    "    # This is the true value of matrix exponential\n",
    "    T_cw = torch.matrix_exp(xi)    \n",
    "    print('Expm True value T_cw: \\n', T_cw)\n",
    "\n",
    "    def compute_W_from_vec(vec_):\n",
    "        print(\"Inside compute_W_from_vec\")\n",
    "        I43_ = torch.eye(4,3,requires_grad=True, dtype=torch.float32)\n",
    "        I34_ = torch.eye(3,4,requires_grad=True, dtype=torch.float32)\n",
    "        \n",
    "        zero_ = torch.zeros((1), requires_grad=True, dtype=torch.float32)\n",
    "        xi_ = torch.stack([\n",
    "        torch.stack([torch.tensor(0.0), -vec_[5],  vec_[4],  vec_[0]]),\n",
    "        torch.stack([vec_[5],  torch.tensor(0.0), -vec_[3],  vec_[1]]),\n",
    "        torch.stack([-vec_[4], vec_[3],  torch.tensor(0.0),  vec_[2]]),\n",
    "        torch.zeros(4)  # Last row\n",
    "        ])\n",
    "        xi_.requires_grad_(True)\n",
    "        # print(\"xi: \\n\",xi_)\n",
    "    \n",
    "        # This is the true value of matrix exponential\n",
    "        T_cw_ = torch.matrix_exp(xi_)\n",
    "        # T_cw_ = torch.eye(4,4, requires_grad=True, dtype=torch.float32)+ xi_\n",
    "        W = torch.matmul(I34_,torch.matmul(T_cw_, I43_))\n",
    "        print(\"Returning from compute_W_from_vec, T_cw: \\n\", T_cw_)\n",
    "        \n",
    "        return W\n",
    "\n",
    "    \n",
    "    dW_dTcw = F.jacobian(compute_W_from_vec, (vec))\n",
    "    print(\"dW_dTcw:\")\n",
    "    print(dW_dTcw.reshape(9,6))\n",
    "    \n",
    "    \n",
    "    \n",
    "    mu_cam = torch.matmul(T_cw, mu_w_tensor)\n",
    "    print('mu_cam: ', mu_cam)\n",
    "\n",
    "    def compute_J(mu_cam):\n",
    "        J = torch.stack([\n",
    "            torch.cat([torch.tensor([1., 0.]), -mu_cam[0:1]/mu_cam[2:3]]),\n",
    "            torch.cat([torch.tensor([0., 1.]), -mu_cam[1:2]/mu_cam[2:3]]),\n",
    "            ])\n",
    "        J = J/mu_cam[2:3]\n",
    "        return J\n",
    "        \n",
    "    J = compute_J(mu_cam)\n",
    "    \n",
    "    # print(\"Proj jac:\\n\",J)\n",
    "    print(\"dJ_dmu_c: \\n\", F.jacobian(compute_J, (mu_cam)))\n",
    "    \n",
    "    def compute_cov_I(J):\n",
    "\n",
    "        def compute_W(T_cw):\n",
    "            W = torch.matmul(I34,torch.matmul(T_cw, I43))\n",
    "            return W\n",
    "            \n",
    "        W = compute_W(T_cw)\n",
    "        \n",
    "        def compute_with_W(W):\n",
    "                \n",
    "            JW = torch.matmul(J,W)\n",
    "            cov_I = torch.matmul(JW,torch.matmul(cov_3D_tensor,JW.transpose(1,0)))\n",
    "            return cov_I\n",
    "        \n",
    "        dcovI_dW = F.jacobian(compute_with_W, (W))\n",
    "        print(\"dcov_I_dW: \")\n",
    "        print(dcovI_dW.reshape(4,9))\n",
    "\n",
    "        print(\"dcovI_dT_cw Second term: \\n\", torch.matmul(dcovI_dW.reshape(4,9),dW_dTcw.reshape(9,6)))\n",
    "\n",
    "        return compute_with_W(W)\n",
    "    \n",
    "    \n",
    "    dcovI_dJ = F.jacobian(compute_cov_I, (J)).reshape(4,6)\n",
    "    print(\"dcovI_dJ: \\n\",dcovI_dJ)\n",
    "\n",
    "    # print(\"dJ_dmu_c: \\n\", F.jacobian(compute_J, (mu_cam)))    \n",
    "    \n",
    "    return compute_cov_I(J)"
   ]
  },
  {
   "cell_type": "code",
   "execution_count": 325,
   "id": "851394e0-7472-4f8d-9c10-b98fd78264cd",
   "metadata": {},
   "outputs": [
    {
     "name": "stdout",
     "output_type": "stream",
     "text": [
      "xi: \n",
      " tensor([[ 0.0000, -0.4534,  0.4534,  1.0000],\n",
      "        [ 0.4534,  0.0000, -0.4534,  1.0000],\n",
      "        [-0.4534,  0.4534,  0.0000,  1.0000],\n",
      "        [ 0.0000,  0.0000,  0.0000,  0.0000]], grad_fn=<StackBackward0>)\n",
      "Expm True value T_cw: \n",
      " tensor([[ 0.8047, -0.3106,  0.5059,  1.0000],\n",
      "        [ 0.5059,  0.8047, -0.3106,  1.0000],\n",
      "        [-0.3106,  0.5059,  0.8047,  1.0000],\n",
      "        [ 0.0000,  0.0000,  0.0000,  1.0000]],\n",
      "       grad_fn=<LinalgMatrixExpBackward0>)\n",
      "Inside compute_W_from_vec\n",
      "Returning from compute_W_from_vec, T_cw: \n",
      " tensor([[ 0.8047, -0.3106,  0.5059,  1.0000],\n",
      "        [ 0.5059,  0.8047, -0.3106,  1.0000],\n",
      "        [-0.3106,  0.5059,  0.8047,  1.0000],\n",
      "        [ 0.0000,  0.0000,  0.0000,  1.0000]],\n",
      "       grad_fn=<LinalgMatrixExpBackward0>)\n",
      "dW_dTcw:\n",
      "tensor([[ 0.0000,  0.0000,  0.0000,  0.0149, -0.4157, -0.4157],\n",
      "        [ 0.0000,  0.0000,  0.0000,  0.2723,  0.2723, -0.8434],\n",
      "        [ 0.0000,  0.0000,  0.0000,  0.1434,  0.8285,  0.1434],\n",
      "        [ 0.0000,  0.0000,  0.0000,  0.1434,  0.1434,  0.8285],\n",
      "        [ 0.0000,  0.0000,  0.0000, -0.4157,  0.0149, -0.4157],\n",
      "        [ 0.0000,  0.0000,  0.0000, -0.8434,  0.2723,  0.2723],\n",
      "        [ 0.0000,  0.0000,  0.0000,  0.2723, -0.8434,  0.2723],\n",
      "        [ 0.0000,  0.0000,  0.0000,  0.8285,  0.1434,  0.1434],\n",
      "        [ 0.0000,  0.0000,  0.0000, -0.4157, -0.4157,  0.0149]])\n",
      "mu_cam:  tensor([3.7011, 3.1835, 5.1154, 1.0000], grad_fn=<MvBackward0>)\n",
      "dJ_dmu_c: \n",
      " tensor([[[ 0.0000,  0.0000, -0.0382,  0.0000],\n",
      "         [ 0.0000,  0.0000,  0.0000,  0.0000],\n",
      "         [-0.0382,  0.0000,  0.0553,  0.0000]],\n",
      "\n",
      "        [[ 0.0000,  0.0000,  0.0000,  0.0000],\n",
      "         [ 0.0000,  0.0000, -0.0382,  0.0000],\n",
      "         [ 0.0000, -0.0382,  0.0476,  0.0000]]])\n",
      "dcov_I_dW: \n",
      "tensor([[-0.0423, -0.0787, -0.0751,  0.0000,  0.0000,  0.0000,  0.0306,  0.0569,\n",
      "          0.0543],\n",
      "        [-0.0289, -0.0267, -0.1053, -0.0211, -0.0393, -0.0375,  0.0340,  0.0438,\n",
      "          0.0996],\n",
      "        [-0.0289, -0.0267, -0.1053, -0.0211, -0.0393, -0.0375,  0.0340,  0.0438,\n",
      "          0.0996],\n",
      "        [ 0.0000,  0.0000,  0.0000, -0.0577, -0.0534, -0.2106,  0.0359,  0.0333,\n",
      "          0.1311]])\n",
      "dcovI_dT_cw Second term: \n",
      " tensor([[ 0.0000e+00,  0.0000e+00,  0.0000e+00,  9.0844e-05, -1.0625e-01,\n",
      "          9.0463e-02],\n",
      "        [ 0.0000e+00,  0.0000e+00,  0.0000e+00,  2.6346e-02, -1.6017e-01,\n",
      "          2.5093e-02],\n",
      "        [ 0.0000e+00,  0.0000e+00,  0.0000e+00,  2.6346e-02, -1.6017e-01,\n",
      "          2.5093e-02],\n",
      "        [ 0.0000e+00,  0.0000e+00,  0.0000e+00,  1.7442e-01, -1.4645e-01,\n",
      "         -6.6452e-02]])\n",
      "dcovI_dJ: \n",
      " tensor([[-0.2432, -0.3140, -0.4455,  0.0000,  0.0000,  0.0000],\n",
      "        [-0.3489, -0.0173, -0.4568, -0.1216, -0.1570, -0.2227],\n",
      "        [-0.3489, -0.0173, -0.4568, -0.1216, -0.1570, -0.2227],\n",
      "        [ 0.0000,  0.0000,  0.0000, -0.6978, -0.0347, -0.9137]])\n",
      "dcov_I_dW: \n",
      "tensor([[-0.0423, -0.0787, -0.0751,  0.0000,  0.0000,  0.0000,  0.0306,  0.0569,\n",
      "          0.0543],\n",
      "        [-0.0289, -0.0267, -0.1053, -0.0211, -0.0393, -0.0375,  0.0340,  0.0438,\n",
      "          0.0996],\n",
      "        [-0.0289, -0.0267, -0.1053, -0.0211, -0.0393, -0.0375,  0.0340,  0.0438,\n",
      "          0.0996],\n",
      "        [ 0.0000,  0.0000,  0.0000, -0.0577, -0.0534, -0.2106,  0.0359,  0.0333,\n",
      "          0.1311]])\n",
      "dcovI_dT_cw Second term: \n",
      " tensor([[ 0.0000e+00,  0.0000e+00,  0.0000e+00,  9.0844e-05, -1.0625e-01,\n",
      "          9.0463e-02],\n",
      "        [ 0.0000e+00,  0.0000e+00,  0.0000e+00,  2.6346e-02, -1.6017e-01,\n",
      "          2.5093e-02],\n",
      "        [ 0.0000e+00,  0.0000e+00,  0.0000e+00,  2.6346e-02, -1.6017e-01,\n",
      "          2.5093e-02],\n",
      "        [ 0.0000e+00,  0.0000e+00,  0.0000e+00,  1.7442e-01, -1.4645e-01,\n",
      "         -6.6452e-02]])\n"
     ]
    },
    {
     "data": {
      "text/plain": [
       "tensor([[ 0.0077, -0.0036],\n",
       "        [-0.0036,  0.0522]], grad_fn=<MmBackward0>)"
      ]
     },
     "execution_count": 325,
     "metadata": {},
     "output_type": "execute_result"
    }
   ],
   "source": [
    "func_COV_I(vec)"
   ]
  },
  {
   "cell_type": "code",
   "execution_count": 320,
   "id": "e0046e11-63a2-42f7-9ec9-c418e4c722a2",
   "metadata": {},
   "outputs": [
    {
     "name": "stdout",
     "output_type": "stream",
     "text": [
      "xi: \n",
      " tensor([[0., -0., 0., 1.],\n",
      "        [0., 0., -0., 1.],\n",
      "        [-0., 0., 0., 1.],\n",
      "        [0., 0., 0., 0.]], grad_fn=<StackBackward0>)\n",
      "Expm True value T_cw: \n",
      " tensor([[1., 0., 0., 1.],\n",
      "        [0., 1., 0., 1.],\n",
      "        [0., 0., 1., 1.],\n",
      "        [0., 0., 0., 1.]], grad_fn=<LinalgMatrixExpBackward0>)\n",
      "Inside compute_W_from_vec\n",
      "Returning from compute_W_from_vec, T_cw: \n",
      " tensor([[1., 0., 0., 1.],\n",
      "        [0., 1., 0., 1.],\n",
      "        [0., 0., 1., 1.],\n",
      "        [0., 0., 0., 1.]], grad_fn=<LinalgMatrixExpBackward0>)\n",
      "dW_dTcw:\n",
      "tensor([[ 0.,  0.,  0.,  0.,  0.,  0.],\n",
      "        [ 0.,  0.,  0.,  0.,  0., -1.],\n",
      "        [ 0.,  0.,  0.,  0.,  1.,  0.],\n",
      "        [ 0.,  0.,  0.,  0.,  0.,  1.],\n",
      "        [ 0.,  0.,  0.,  0.,  0.,  0.],\n",
      "        [ 0.,  0.,  0., -1.,  0.,  0.],\n",
      "        [ 0.,  0.,  0.,  0., -1.,  0.],\n",
      "        [ 0.,  0.,  0.,  1.,  0.,  0.],\n",
      "        [ 0.,  0.,  0.,  0.,  0.,  0.]])\n",
      "mu_cam:  tensor([3., 4., 5., 1.], grad_fn=<MvBackward0>)\n",
      "dJ_dmu_c: \n",
      " tensor([[[ 0.0000,  0.0000, -0.0400,  0.0000],\n",
      "         [ 0.0000,  0.0000,  0.0000,  0.0000],\n",
      "         [-0.0400,  0.0000,  0.0480,  0.0000]],\n",
      "\n",
      "        [[ 0.0000,  0.0000,  0.0000,  0.0000],\n",
      "         [ 0.0000,  0.0000, -0.0400,  0.0000],\n",
      "         [ 0.0000, -0.0400,  0.0640,  0.0000]]])\n",
      "dcov_I_dW: \n",
      "tensor([[-6.4000e-02, -8.0000e-02, -1.9200e-01,  0.0000e+00,  0.0000e+00,\n",
      "          0.0000e+00,  3.8400e-02,  4.8000e-02,  1.1520e-01],\n",
      "        [-1.6000e-02,  1.1921e-08, -8.8000e-02, -3.2000e-02, -4.0000e-02,\n",
      "         -9.6000e-02,  3.5200e-02,  3.2000e-02,  1.2960e-01],\n",
      "        [-1.6000e-02,  1.1921e-08, -8.8000e-02, -3.2000e-02, -4.0000e-02,\n",
      "         -9.6000e-02,  3.5200e-02,  3.2000e-02,  1.2960e-01],\n",
      "        [ 0.0000e+00,  0.0000e+00,  0.0000e+00, -3.2000e-02,  2.3842e-08,\n",
      "         -1.7600e-01,  2.5600e-02, -1.9073e-08,  1.4080e-01]])\n",
      "dcovI_dT_cw Second term: \n",
      " tensor([[ 0.0000,  0.0000,  0.0000,  0.0480, -0.2304,  0.0800],\n",
      "        [ 0.0000,  0.0000,  0.0000,  0.1280, -0.1232, -0.0320],\n",
      "        [ 0.0000,  0.0000,  0.0000,  0.1280, -0.1232, -0.0320],\n",
      "        [ 0.0000,  0.0000,  0.0000,  0.1760, -0.0256, -0.0320]])\n",
      "dcovI_dJ: \n",
      " tensor([[-3.2000e-01, -4.0000e-01, -9.6000e-01,  0.0000e+00,  0.0000e+00,\n",
      "          0.0000e+00],\n",
      "        [-8.0000e-02,  5.9605e-08, -4.4000e-01, -1.6000e-01, -2.0000e-01,\n",
      "         -4.8000e-01],\n",
      "        [-8.0000e-02,  5.9605e-08, -4.4000e-01, -1.6000e-01, -2.0000e-01,\n",
      "         -4.8000e-01],\n",
      "        [ 0.0000e+00,  0.0000e+00,  0.0000e+00, -1.6000e-01,  1.1921e-07,\n",
      "         -8.8000e-01]])\n",
      "dcov_I_dW: \n",
      "tensor([[-6.4000e-02, -8.0000e-02, -1.9200e-01,  0.0000e+00,  0.0000e+00,\n",
      "          0.0000e+00,  3.8400e-02,  4.8000e-02,  1.1520e-01],\n",
      "        [-1.6000e-02,  1.1921e-08, -8.8000e-02, -3.2000e-02, -4.0000e-02,\n",
      "         -9.6000e-02,  3.5200e-02,  3.2000e-02,  1.2960e-01],\n",
      "        [-1.6000e-02,  1.1921e-08, -8.8000e-02, -3.2000e-02, -4.0000e-02,\n",
      "         -9.6000e-02,  3.5200e-02,  3.2000e-02,  1.2960e-01],\n",
      "        [ 0.0000e+00,  0.0000e+00,  0.0000e+00, -3.2000e-02,  2.3842e-08,\n",
      "         -1.7600e-01,  2.5600e-02, -1.9073e-08,  1.4080e-01]])\n",
      "dcovI_dT_cw Second term: \n",
      " tensor([[ 0.0000,  0.0000,  0.0000,  0.0480, -0.2304,  0.0800],\n",
      "        [ 0.0000,  0.0000,  0.0000,  0.1280, -0.1232, -0.0320],\n",
      "        [ 0.0000,  0.0000,  0.0000,  0.1280, -0.1232, -0.0320],\n",
      "        [ 0.0000,  0.0000,  0.0000,  0.1760, -0.0256, -0.0320]])\n"
     ]
    },
    {
     "data": {
      "text/plain": [
       "tensor([[[ 0.0384,  0.0000, -0.0333, -0.0685,  0.0256, -0.0544],\n",
       "         [ 0.0176,  0.0192, -0.0406, -0.1006,  0.0576, -0.0456]],\n",
       "\n",
       "        [[ 0.0176,  0.0192, -0.0406, -0.1006,  0.0576, -0.0456],\n",
       "         [ 0.0000,  0.0352, -0.0563, -0.1795,  0.1152,  0.0560]]])"
      ]
     },
     "execution_count": 320,
     "metadata": {},
     "output_type": "execute_result"
    }
   ],
   "source": [
    "F.jacobian(func_COV_I, (vec))"
   ]
  },
  {
   "cell_type": "code",
   "execution_count": null,
   "id": "1eed2a95-e5eb-4429-bcbe-a8242c987a43",
   "metadata": {},
   "outputs": [],
   "source": []
  }
 ],
 "metadata": {
  "kernelspec": {
   "display_name": "Python 3 (ipykernel)",
   "language": "python",
   "name": "python3"
  },
  "language_info": {
   "codemirror_mode": {
    "name": "ipython",
    "version": 3
   },
   "file_extension": ".py",
   "mimetype": "text/x-python",
   "name": "python",
   "nbconvert_exporter": "python",
   "pygments_lexer": "ipython3",
   "version": "3.10.14"
  }
 },
 "nbformat": 4,
 "nbformat_minor": 5
}
